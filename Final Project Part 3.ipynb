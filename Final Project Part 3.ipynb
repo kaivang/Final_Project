{
 "cells": [
  {
   "cell_type": "markdown",
   "id": "cc37579b",
   "metadata": {},
   "source": [
    "# NBA games data analysis"
   ]
  },
  {
   "cell_type": "code",
   "execution_count": 63,
   "id": "2be9c32d",
   "metadata": {},
   "outputs": [],
   "source": [
    "import os\n",
    "import sys\n",
    "import requests\n",
    "import matplotlib.pyplot as plt\n",
    "import matplotlib\n",
    "import ipywidgets\n",
    "import numpy as np\n",
    "import pandas as pd\n",
    "from ipywidgets import interact, interact_manual\n",
    "import seaborn as sns"
   ]
  },
  {
   "cell_type": "code",
   "execution_count": 64,
   "id": "148ab89f",
   "metadata": {},
   "outputs": [
    {
     "data": {
      "text/html": [
       "<div>\n",
       "<style scoped>\n",
       "    .dataframe tbody tr th:only-of-type {\n",
       "        vertical-align: middle;\n",
       "    }\n",
       "\n",
       "    .dataframe tbody tr th {\n",
       "        vertical-align: top;\n",
       "    }\n",
       "\n",
       "    .dataframe thead th {\n",
       "        text-align: right;\n",
       "    }\n",
       "</style>\n",
       "<table border=\"1\" class=\"dataframe\">\n",
       "  <thead>\n",
       "    <tr style=\"text-align: right;\">\n",
       "      <th></th>\n",
       "      <th>TEAM_ID</th>\n",
       "      <th>LEAGUE_ID</th>\n",
       "      <th>SEASON_ID</th>\n",
       "      <th>STANDINGSDATE</th>\n",
       "      <th>CONFERENCE</th>\n",
       "      <th>TEAM</th>\n",
       "      <th>G</th>\n",
       "      <th>W</th>\n",
       "      <th>L</th>\n",
       "      <th>W_PCT</th>\n",
       "      <th>HOME_RECORD</th>\n",
       "      <th>ROAD_RECORD</th>\n",
       "      <th>RETURNTOPLAY</th>\n",
       "    </tr>\n",
       "  </thead>\n",
       "  <tbody>\n",
       "    <tr>\n",
       "      <th>0</th>\n",
       "      <td>1610612756</td>\n",
       "      <td>0</td>\n",
       "      <td>22021</td>\n",
       "      <td>2022-03-12</td>\n",
       "      <td>West</td>\n",
       "      <td>Phoenix</td>\n",
       "      <td>67</td>\n",
       "      <td>53</td>\n",
       "      <td>14</td>\n",
       "      <td>0.791</td>\n",
       "      <td>28-8</td>\n",
       "      <td>25-6</td>\n",
       "      <td>NaN</td>\n",
       "    </tr>\n",
       "    <tr>\n",
       "      <th>1</th>\n",
       "      <td>1610612744</td>\n",
       "      <td>0</td>\n",
       "      <td>22021</td>\n",
       "      <td>2022-03-12</td>\n",
       "      <td>West</td>\n",
       "      <td>Golden State</td>\n",
       "      <td>68</td>\n",
       "      <td>46</td>\n",
       "      <td>22</td>\n",
       "      <td>0.676</td>\n",
       "      <td>28-7</td>\n",
       "      <td>18-15</td>\n",
       "      <td>NaN</td>\n",
       "    </tr>\n",
       "    <tr>\n",
       "      <th>2</th>\n",
       "      <td>1610612763</td>\n",
       "      <td>0</td>\n",
       "      <td>22021</td>\n",
       "      <td>2022-03-12</td>\n",
       "      <td>West</td>\n",
       "      <td>Memphis</td>\n",
       "      <td>68</td>\n",
       "      <td>46</td>\n",
       "      <td>22</td>\n",
       "      <td>0.676</td>\n",
       "      <td>24-10</td>\n",
       "      <td>22-12</td>\n",
       "      <td>NaN</td>\n",
       "    </tr>\n",
       "    <tr>\n",
       "      <th>3</th>\n",
       "      <td>1610612762</td>\n",
       "      <td>0</td>\n",
       "      <td>22021</td>\n",
       "      <td>2022-03-12</td>\n",
       "      <td>West</td>\n",
       "      <td>Utah</td>\n",
       "      <td>67</td>\n",
       "      <td>42</td>\n",
       "      <td>25</td>\n",
       "      <td>0.627</td>\n",
       "      <td>24-10</td>\n",
       "      <td>18-15</td>\n",
       "      <td>NaN</td>\n",
       "    </tr>\n",
       "    <tr>\n",
       "      <th>4</th>\n",
       "      <td>1610612742</td>\n",
       "      <td>0</td>\n",
       "      <td>22021</td>\n",
       "      <td>2022-03-12</td>\n",
       "      <td>West</td>\n",
       "      <td>Dallas</td>\n",
       "      <td>67</td>\n",
       "      <td>41</td>\n",
       "      <td>26</td>\n",
       "      <td>0.612</td>\n",
       "      <td>23-12</td>\n",
       "      <td>18-14</td>\n",
       "      <td>NaN</td>\n",
       "    </tr>\n",
       "  </tbody>\n",
       "</table>\n",
       "</div>"
      ],
      "text/plain": [
       "      TEAM_ID  LEAGUE_ID  SEASON_ID STANDINGSDATE CONFERENCE          TEAM  \\\n",
       "0  1610612756          0      22021    2022-03-12       West       Phoenix   \n",
       "1  1610612744          0      22021    2022-03-12       West  Golden State   \n",
       "2  1610612763          0      22021    2022-03-12       West       Memphis   \n",
       "3  1610612762          0      22021    2022-03-12       West          Utah   \n",
       "4  1610612742          0      22021    2022-03-12       West        Dallas   \n",
       "\n",
       "    G   W   L  W_PCT HOME_RECORD ROAD_RECORD  RETURNTOPLAY  \n",
       "0  67  53  14  0.791        28-8        25-6           NaN  \n",
       "1  68  46  22  0.676        28-7       18-15           NaN  \n",
       "2  68  46  22  0.676       24-10       22-12           NaN  \n",
       "3  67  42  25  0.627       24-10       18-15           NaN  \n",
       "4  67  41  26  0.612       23-12       18-14           NaN  "
      ]
     },
     "execution_count": 64,
     "metadata": {},
     "output_type": "execute_result"
    }
   ],
   "source": [
    "nba_ranking = pd.read_csv('ranking.csv')\n",
    "nba_ranking.head()"
   ]
  },
  {
   "cell_type": "code",
   "execution_count": 65,
   "id": "8c9f9d1b",
   "metadata": {},
   "outputs": [
    {
     "data": {
      "text/plain": [
       "Index(['TEAM_ID', 'LEAGUE_ID', 'SEASON_ID', 'STANDINGSDATE', 'CONFERENCE',\n",
       "       'TEAM', 'G', 'W', 'L', 'W_PCT', 'HOME_RECORD', 'ROAD_RECORD',\n",
       "       'RETURNTOPLAY'],\n",
       "      dtype='object')"
      ]
     },
     "execution_count": 65,
     "metadata": {},
     "output_type": "execute_result"
    }
   ],
   "source": [
    "nba_ranking.columns"
   ]
  },
  {
   "cell_type": "code",
   "execution_count": 66,
   "id": "637c531d",
   "metadata": {},
   "outputs": [
    {
     "data": {
      "text/html": [
       "<div>\n",
       "<style scoped>\n",
       "    .dataframe tbody tr th:only-of-type {\n",
       "        vertical-align: middle;\n",
       "    }\n",
       "\n",
       "    .dataframe tbody tr th {\n",
       "        vertical-align: top;\n",
       "    }\n",
       "\n",
       "    .dataframe thead th {\n",
       "        text-align: right;\n",
       "    }\n",
       "</style>\n",
       "<table border=\"1\" class=\"dataframe\">\n",
       "  <thead>\n",
       "    <tr style=\"text-align: right;\">\n",
       "      <th></th>\n",
       "      <th>TEAM_ID</th>\n",
       "      <th>LEAGUE_ID</th>\n",
       "      <th>SEASON_ID</th>\n",
       "      <th>G</th>\n",
       "      <th>W</th>\n",
       "      <th>L</th>\n",
       "      <th>W_PCT</th>\n",
       "      <th>RETURNTOPLAY</th>\n",
       "    </tr>\n",
       "  </thead>\n",
       "  <tbody>\n",
       "    <tr>\n",
       "      <th>count</th>\n",
       "      <td>2.017920e+05</td>\n",
       "      <td>201792.0</td>\n",
       "      <td>201792.000000</td>\n",
       "      <td>201792.000000</td>\n",
       "      <td>201792.000000</td>\n",
       "      <td>201792.000000</td>\n",
       "      <td>201792.000000</td>\n",
       "      <td>3990.000000</td>\n",
       "    </tr>\n",
       "    <tr>\n",
       "      <th>mean</th>\n",
       "      <td>1.610613e+09</td>\n",
       "      <td>0.0</td>\n",
       "      <td>21401.535210</td>\n",
       "      <td>56.475455</td>\n",
       "      <td>28.241278</td>\n",
       "      <td>28.234177</td>\n",
       "      <td>0.492745</td>\n",
       "      <td>0.600000</td>\n",
       "    </tr>\n",
       "    <tr>\n",
       "      <th>std</th>\n",
       "      <td>8.640908e+00</td>\n",
       "      <td>0.0</td>\n",
       "      <td>2393.667432</td>\n",
       "      <td>28.505551</td>\n",
       "      <td>17.214043</td>\n",
       "      <td>17.205158</td>\n",
       "      <td>0.187940</td>\n",
       "      <td>0.489959</td>\n",
       "    </tr>\n",
       "    <tr>\n",
       "      <th>min</th>\n",
       "      <td>1.610613e+09</td>\n",
       "      <td>0.0</td>\n",
       "      <td>12003.000000</td>\n",
       "      <td>0.000000</td>\n",
       "      <td>0.000000</td>\n",
       "      <td>0.000000</td>\n",
       "      <td>0.000000</td>\n",
       "      <td>0.000000</td>\n",
       "    </tr>\n",
       "    <tr>\n",
       "      <th>25%</th>\n",
       "      <td>1.610613e+09</td>\n",
       "      <td>0.0</td>\n",
       "      <td>22006.000000</td>\n",
       "      <td>33.000000</td>\n",
       "      <td>14.000000</td>\n",
       "      <td>14.000000</td>\n",
       "      <td>0.371000</td>\n",
       "      <td>0.000000</td>\n",
       "    </tr>\n",
       "    <tr>\n",
       "      <th>50%</th>\n",
       "      <td>1.610613e+09</td>\n",
       "      <td>0.0</td>\n",
       "      <td>22011.000000</td>\n",
       "      <td>66.000000</td>\n",
       "      <td>28.000000</td>\n",
       "      <td>28.000000</td>\n",
       "      <td>0.500000</td>\n",
       "      <td>1.000000</td>\n",
       "    </tr>\n",
       "    <tr>\n",
       "      <th>75%</th>\n",
       "      <td>1.610613e+09</td>\n",
       "      <td>0.0</td>\n",
       "      <td>22016.000000</td>\n",
       "      <td>82.000000</td>\n",
       "      <td>42.000000</td>\n",
       "      <td>41.000000</td>\n",
       "      <td>0.621000</td>\n",
       "      <td>1.000000</td>\n",
       "    </tr>\n",
       "    <tr>\n",
       "      <th>max</th>\n",
       "      <td>1.610613e+09</td>\n",
       "      <td>0.0</td>\n",
       "      <td>22021.000000</td>\n",
       "      <td>82.000000</td>\n",
       "      <td>73.000000</td>\n",
       "      <td>72.000000</td>\n",
       "      <td>1.000000</td>\n",
       "      <td>1.000000</td>\n",
       "    </tr>\n",
       "  </tbody>\n",
       "</table>\n",
       "</div>"
      ],
      "text/plain": [
       "            TEAM_ID  LEAGUE_ID      SEASON_ID              G              W  \\\n",
       "count  2.017920e+05   201792.0  201792.000000  201792.000000  201792.000000   \n",
       "mean   1.610613e+09        0.0   21401.535210      56.475455      28.241278   \n",
       "std    8.640908e+00        0.0    2393.667432      28.505551      17.214043   \n",
       "min    1.610613e+09        0.0   12003.000000       0.000000       0.000000   \n",
       "25%    1.610613e+09        0.0   22006.000000      33.000000      14.000000   \n",
       "50%    1.610613e+09        0.0   22011.000000      66.000000      28.000000   \n",
       "75%    1.610613e+09        0.0   22016.000000      82.000000      42.000000   \n",
       "max    1.610613e+09        0.0   22021.000000      82.000000      73.000000   \n",
       "\n",
       "                   L          W_PCT  RETURNTOPLAY  \n",
       "count  201792.000000  201792.000000   3990.000000  \n",
       "mean       28.234177       0.492745      0.600000  \n",
       "std        17.205158       0.187940      0.489959  \n",
       "min         0.000000       0.000000      0.000000  \n",
       "25%        14.000000       0.371000      0.000000  \n",
       "50%        28.000000       0.500000      1.000000  \n",
       "75%        41.000000       0.621000      1.000000  \n",
       "max        72.000000       1.000000      1.000000  "
      ]
     },
     "execution_count": 66,
     "metadata": {},
     "output_type": "execute_result"
    }
   ],
   "source": [
    "nba_ranking.describe()"
   ]
  },
  {
   "cell_type": "code",
   "execution_count": 67,
   "id": "1faebd62",
   "metadata": {},
   "outputs": [
    {
     "data": {
      "text/html": [
       "<div>\n",
       "<style scoped>\n",
       "    .dataframe tbody tr th:only-of-type {\n",
       "        vertical-align: middle;\n",
       "    }\n",
       "\n",
       "    .dataframe tbody tr th {\n",
       "        vertical-align: top;\n",
       "    }\n",
       "\n",
       "    .dataframe thead th {\n",
       "        text-align: right;\n",
       "    }\n",
       "</style>\n",
       "<table border=\"1\" class=\"dataframe\">\n",
       "  <thead>\n",
       "    <tr style=\"text-align: right;\">\n",
       "      <th></th>\n",
       "      <th>TEAM_ID</th>\n",
       "      <th>LEAGUE_ID</th>\n",
       "      <th>SEASON_ID</th>\n",
       "      <th>STANDINGSDATE</th>\n",
       "      <th>CONFERENCE</th>\n",
       "      <th>TEAM</th>\n",
       "      <th>G</th>\n",
       "      <th>W</th>\n",
       "      <th>L</th>\n",
       "      <th>W_PCT</th>\n",
       "      <th>HOME_RECORD</th>\n",
       "      <th>ROAD_RECORD</th>\n",
       "      <th>RETURNTOPLAY</th>\n",
       "      <th>Year</th>\n",
       "    </tr>\n",
       "  </thead>\n",
       "  <tbody>\n",
       "    <tr>\n",
       "      <th>0</th>\n",
       "      <td>1610612756</td>\n",
       "      <td>0</td>\n",
       "      <td>22021</td>\n",
       "      <td>2022-03-12</td>\n",
       "      <td>West</td>\n",
       "      <td>Phoenix</td>\n",
       "      <td>67</td>\n",
       "      <td>53</td>\n",
       "      <td>14</td>\n",
       "      <td>0.791</td>\n",
       "      <td>28-8</td>\n",
       "      <td>25-6</td>\n",
       "      <td>NaN</td>\n",
       "      <td>2022</td>\n",
       "    </tr>\n",
       "    <tr>\n",
       "      <th>1</th>\n",
       "      <td>1610612744</td>\n",
       "      <td>0</td>\n",
       "      <td>22021</td>\n",
       "      <td>2022-03-12</td>\n",
       "      <td>West</td>\n",
       "      <td>Golden State</td>\n",
       "      <td>68</td>\n",
       "      <td>46</td>\n",
       "      <td>22</td>\n",
       "      <td>0.676</td>\n",
       "      <td>28-7</td>\n",
       "      <td>18-15</td>\n",
       "      <td>NaN</td>\n",
       "      <td>2022</td>\n",
       "    </tr>\n",
       "    <tr>\n",
       "      <th>2</th>\n",
       "      <td>1610612763</td>\n",
       "      <td>0</td>\n",
       "      <td>22021</td>\n",
       "      <td>2022-03-12</td>\n",
       "      <td>West</td>\n",
       "      <td>Memphis</td>\n",
       "      <td>68</td>\n",
       "      <td>46</td>\n",
       "      <td>22</td>\n",
       "      <td>0.676</td>\n",
       "      <td>24-10</td>\n",
       "      <td>22-12</td>\n",
       "      <td>NaN</td>\n",
       "      <td>2022</td>\n",
       "    </tr>\n",
       "    <tr>\n",
       "      <th>3</th>\n",
       "      <td>1610612762</td>\n",
       "      <td>0</td>\n",
       "      <td>22021</td>\n",
       "      <td>2022-03-12</td>\n",
       "      <td>West</td>\n",
       "      <td>Utah</td>\n",
       "      <td>67</td>\n",
       "      <td>42</td>\n",
       "      <td>25</td>\n",
       "      <td>0.627</td>\n",
       "      <td>24-10</td>\n",
       "      <td>18-15</td>\n",
       "      <td>NaN</td>\n",
       "      <td>2022</td>\n",
       "    </tr>\n",
       "    <tr>\n",
       "      <th>4</th>\n",
       "      <td>1610612742</td>\n",
       "      <td>0</td>\n",
       "      <td>22021</td>\n",
       "      <td>2022-03-12</td>\n",
       "      <td>West</td>\n",
       "      <td>Dallas</td>\n",
       "      <td>67</td>\n",
       "      <td>41</td>\n",
       "      <td>26</td>\n",
       "      <td>0.612</td>\n",
       "      <td>23-12</td>\n",
       "      <td>18-14</td>\n",
       "      <td>NaN</td>\n",
       "      <td>2022</td>\n",
       "    </tr>\n",
       "  </tbody>\n",
       "</table>\n",
       "</div>"
      ],
      "text/plain": [
       "      TEAM_ID  LEAGUE_ID  SEASON_ID STANDINGSDATE CONFERENCE          TEAM  \\\n",
       "0  1610612756          0      22021    2022-03-12       West       Phoenix   \n",
       "1  1610612744          0      22021    2022-03-12       West  Golden State   \n",
       "2  1610612763          0      22021    2022-03-12       West       Memphis   \n",
       "3  1610612762          0      22021    2022-03-12       West          Utah   \n",
       "4  1610612742          0      22021    2022-03-12       West        Dallas   \n",
       "\n",
       "    G   W   L  W_PCT HOME_RECORD ROAD_RECORD  RETURNTOPLAY  Year  \n",
       "0  67  53  14  0.791        28-8        25-6           NaN  2022  \n",
       "1  68  46  22  0.676        28-7       18-15           NaN  2022  \n",
       "2  68  46  22  0.676       24-10       22-12           NaN  2022  \n",
       "3  67  42  25  0.627       24-10       18-15           NaN  2022  \n",
       "4  67  41  26  0.612       23-12       18-14           NaN  2022  "
      ]
     },
     "execution_count": 67,
     "metadata": {},
     "output_type": "execute_result"
    }
   ],
   "source": [
    "nba_ranking['Year'] = pd.DatetimeIndex(nba_ranking['STANDINGSDATE']).year\n",
    "nba_ranking.head()"
   ]
  },
  {
   "cell_type": "code",
   "execution_count": 68,
   "id": "c722b7c9",
   "metadata": {},
   "outputs": [
    {
     "data": {
      "text/plain": [
       "39"
      ]
     },
     "execution_count": 68,
     "metadata": {},
     "output_type": "execute_result"
    }
   ],
   "source": [
    "nba_ranking['SEASON_ID'].nunique()"
   ]
  },
  {
   "cell_type": "code",
   "execution_count": 69,
   "id": "2ea03442",
   "metadata": {
    "scrolled": false
   },
   "outputs": [
    {
     "data": {
      "text/html": [
       "<div>\n",
       "<style scoped>\n",
       "    .dataframe tbody tr th:only-of-type {\n",
       "        vertical-align: middle;\n",
       "    }\n",
       "\n",
       "    .dataframe tbody tr th {\n",
       "        vertical-align: top;\n",
       "    }\n",
       "\n",
       "    .dataframe thead th {\n",
       "        text-align: right;\n",
       "    }\n",
       "</style>\n",
       "<table border=\"1\" class=\"dataframe\">\n",
       "  <thead>\n",
       "    <tr style=\"text-align: right;\">\n",
       "      <th></th>\n",
       "      <th>TEAM</th>\n",
       "      <th>W</th>\n",
       "    </tr>\n",
       "  </thead>\n",
       "  <tbody>\n",
       "    <tr>\n",
       "      <th>0</th>\n",
       "      <td>Phoenix</td>\n",
       "      <td>53</td>\n",
       "    </tr>\n",
       "    <tr>\n",
       "      <th>1</th>\n",
       "      <td>Golden State</td>\n",
       "      <td>46</td>\n",
       "    </tr>\n",
       "    <tr>\n",
       "      <th>2</th>\n",
       "      <td>Memphis</td>\n",
       "      <td>46</td>\n",
       "    </tr>\n",
       "    <tr>\n",
       "      <th>3</th>\n",
       "      <td>Utah</td>\n",
       "      <td>42</td>\n",
       "    </tr>\n",
       "    <tr>\n",
       "      <th>4</th>\n",
       "      <td>Dallas</td>\n",
       "      <td>41</td>\n",
       "    </tr>\n",
       "  </tbody>\n",
       "</table>\n",
       "</div>"
      ],
      "text/plain": [
       "           TEAM   W\n",
       "0       Phoenix  53\n",
       "1  Golden State  46\n",
       "2       Memphis  46\n",
       "3          Utah  42\n",
       "4        Dallas  41"
      ]
     },
     "execution_count": 69,
     "metadata": {},
     "output_type": "execute_result"
    }
   ],
   "source": [
    "teams_win = nba_ranking[['TEAM','W']]\n",
    "teams_win.head()"
   ]
  },
  {
   "cell_type": "markdown",
   "id": "01cdf1e8",
   "metadata": {},
   "source": [
    "# Total Wins by Teams"
   ]
  },
  {
   "cell_type": "code",
   "execution_count": 70,
   "id": "540dfebb",
   "metadata": {},
   "outputs": [
    {
     "data": {
      "text/html": [
       "<div>\n",
       "<style scoped>\n",
       "    .dataframe tbody tr th:only-of-type {\n",
       "        vertical-align: middle;\n",
       "    }\n",
       "\n",
       "    .dataframe tbody tr th {\n",
       "        vertical-align: top;\n",
       "    }\n",
       "\n",
       "    .dataframe thead th {\n",
       "        text-align: right;\n",
       "    }\n",
       "</style>\n",
       "<table border=\"1\" class=\"dataframe\">\n",
       "  <thead>\n",
       "    <tr style=\"text-align: right;\">\n",
       "      <th></th>\n",
       "      <th>GAME_DATE_EST</th>\n",
       "      <th>GAME_ID</th>\n",
       "      <th>GAME_STATUS_TEXT</th>\n",
       "      <th>HOME_TEAM_ID</th>\n",
       "      <th>VISITOR_TEAM_ID</th>\n",
       "      <th>SEASON</th>\n",
       "      <th>TEAM_ID_home</th>\n",
       "      <th>PTS_home</th>\n",
       "      <th>FG_PCT_home</th>\n",
       "      <th>FT_PCT_home</th>\n",
       "      <th>...</th>\n",
       "      <th>AST_home</th>\n",
       "      <th>REB_home</th>\n",
       "      <th>TEAM_ID_away</th>\n",
       "      <th>PTS_away</th>\n",
       "      <th>FG_PCT_away</th>\n",
       "      <th>FT_PCT_away</th>\n",
       "      <th>FG3_PCT_away</th>\n",
       "      <th>AST_away</th>\n",
       "      <th>REB_away</th>\n",
       "      <th>HOME_TEAM_WINS</th>\n",
       "    </tr>\n",
       "  </thead>\n",
       "  <tbody>\n",
       "    <tr>\n",
       "      <th>0</th>\n",
       "      <td>2022-03-12</td>\n",
       "      <td>22101005</td>\n",
       "      <td>Final</td>\n",
       "      <td>1610612748</td>\n",
       "      <td>1610612750</td>\n",
       "      <td>2021</td>\n",
       "      <td>1610612748</td>\n",
       "      <td>104.0</td>\n",
       "      <td>0.398</td>\n",
       "      <td>0.760</td>\n",
       "      <td>...</td>\n",
       "      <td>23.0</td>\n",
       "      <td>53.0</td>\n",
       "      <td>1610612750</td>\n",
       "      <td>113.0</td>\n",
       "      <td>0.422</td>\n",
       "      <td>0.875</td>\n",
       "      <td>0.357</td>\n",
       "      <td>21.0</td>\n",
       "      <td>46.0</td>\n",
       "      <td>0</td>\n",
       "    </tr>\n",
       "    <tr>\n",
       "      <th>1</th>\n",
       "      <td>2022-03-12</td>\n",
       "      <td>22101006</td>\n",
       "      <td>Final</td>\n",
       "      <td>1610612741</td>\n",
       "      <td>1610612739</td>\n",
       "      <td>2021</td>\n",
       "      <td>1610612741</td>\n",
       "      <td>101.0</td>\n",
       "      <td>0.443</td>\n",
       "      <td>0.933</td>\n",
       "      <td>...</td>\n",
       "      <td>20.0</td>\n",
       "      <td>46.0</td>\n",
       "      <td>1610612739</td>\n",
       "      <td>91.0</td>\n",
       "      <td>0.419</td>\n",
       "      <td>0.824</td>\n",
       "      <td>0.208</td>\n",
       "      <td>19.0</td>\n",
       "      <td>40.0</td>\n",
       "      <td>1</td>\n",
       "    </tr>\n",
       "    <tr>\n",
       "      <th>2</th>\n",
       "      <td>2022-03-12</td>\n",
       "      <td>22101007</td>\n",
       "      <td>Final</td>\n",
       "      <td>1610612759</td>\n",
       "      <td>1610612754</td>\n",
       "      <td>2021</td>\n",
       "      <td>1610612759</td>\n",
       "      <td>108.0</td>\n",
       "      <td>0.412</td>\n",
       "      <td>0.813</td>\n",
       "      <td>...</td>\n",
       "      <td>28.0</td>\n",
       "      <td>52.0</td>\n",
       "      <td>1610612754</td>\n",
       "      <td>119.0</td>\n",
       "      <td>0.489</td>\n",
       "      <td>1.000</td>\n",
       "      <td>0.389</td>\n",
       "      <td>23.0</td>\n",
       "      <td>47.0</td>\n",
       "      <td>0</td>\n",
       "    </tr>\n",
       "    <tr>\n",
       "      <th>3</th>\n",
       "      <td>2022-03-12</td>\n",
       "      <td>22101008</td>\n",
       "      <td>Final</td>\n",
       "      <td>1610612744</td>\n",
       "      <td>1610612749</td>\n",
       "      <td>2021</td>\n",
       "      <td>1610612744</td>\n",
       "      <td>122.0</td>\n",
       "      <td>0.484</td>\n",
       "      <td>0.933</td>\n",
       "      <td>...</td>\n",
       "      <td>33.0</td>\n",
       "      <td>55.0</td>\n",
       "      <td>1610612749</td>\n",
       "      <td>109.0</td>\n",
       "      <td>0.413</td>\n",
       "      <td>0.696</td>\n",
       "      <td>0.386</td>\n",
       "      <td>27.0</td>\n",
       "      <td>39.0</td>\n",
       "      <td>1</td>\n",
       "    </tr>\n",
       "    <tr>\n",
       "      <th>4</th>\n",
       "      <td>2022-03-12</td>\n",
       "      <td>22101009</td>\n",
       "      <td>Final</td>\n",
       "      <td>1610612743</td>\n",
       "      <td>1610612761</td>\n",
       "      <td>2021</td>\n",
       "      <td>1610612743</td>\n",
       "      <td>115.0</td>\n",
       "      <td>0.551</td>\n",
       "      <td>0.750</td>\n",
       "      <td>...</td>\n",
       "      <td>32.0</td>\n",
       "      <td>39.0</td>\n",
       "      <td>1610612761</td>\n",
       "      <td>127.0</td>\n",
       "      <td>0.471</td>\n",
       "      <td>0.760</td>\n",
       "      <td>0.387</td>\n",
       "      <td>28.0</td>\n",
       "      <td>50.0</td>\n",
       "      <td>0</td>\n",
       "    </tr>\n",
       "  </tbody>\n",
       "</table>\n",
       "<p>5 rows × 21 columns</p>\n",
       "</div>"
      ],
      "text/plain": [
       "  GAME_DATE_EST   GAME_ID GAME_STATUS_TEXT  HOME_TEAM_ID  VISITOR_TEAM_ID  \\\n",
       "0    2022-03-12  22101005            Final    1610612748       1610612750   \n",
       "1    2022-03-12  22101006            Final    1610612741       1610612739   \n",
       "2    2022-03-12  22101007            Final    1610612759       1610612754   \n",
       "3    2022-03-12  22101008            Final    1610612744       1610612749   \n",
       "4    2022-03-12  22101009            Final    1610612743       1610612761   \n",
       "\n",
       "   SEASON  TEAM_ID_home  PTS_home  FG_PCT_home  FT_PCT_home  ...  AST_home  \\\n",
       "0    2021    1610612748     104.0        0.398        0.760  ...      23.0   \n",
       "1    2021    1610612741     101.0        0.443        0.933  ...      20.0   \n",
       "2    2021    1610612759     108.0        0.412        0.813  ...      28.0   \n",
       "3    2021    1610612744     122.0        0.484        0.933  ...      33.0   \n",
       "4    2021    1610612743     115.0        0.551        0.750  ...      32.0   \n",
       "\n",
       "   REB_home  TEAM_ID_away  PTS_away  FG_PCT_away  FT_PCT_away  FG3_PCT_away  \\\n",
       "0      53.0    1610612750     113.0        0.422        0.875         0.357   \n",
       "1      46.0    1610612739      91.0        0.419        0.824         0.208   \n",
       "2      52.0    1610612754     119.0        0.489        1.000         0.389   \n",
       "3      55.0    1610612749     109.0        0.413        0.696         0.386   \n",
       "4      39.0    1610612761     127.0        0.471        0.760         0.387   \n",
       "\n",
       "   AST_away  REB_away  HOME_TEAM_WINS  \n",
       "0      21.0      46.0               0  \n",
       "1      19.0      40.0               1  \n",
       "2      23.0      47.0               0  \n",
       "3      27.0      39.0               1  \n",
       "4      28.0      50.0               0  \n",
       "\n",
       "[5 rows x 21 columns]"
      ]
     },
     "execution_count": 70,
     "metadata": {},
     "output_type": "execute_result"
    }
   ],
   "source": [
    "nba_games  = pd.read_csv('games.csv')\n",
    "nba_games.head()"
   ]
  },
  {
   "cell_type": "markdown",
   "id": "38b43c74",
   "metadata": {},
   "source": [
    "## Interactive Visualization"
   ]
  },
  {
   "cell_type": "code",
   "execution_count": 71,
   "id": "dcff2d20",
   "metadata": {},
   "outputs": [],
   "source": [
    "temp = nba_ranking.loc[nba_ranking['SEASON_ID'] == 22021]"
   ]
  },
  {
   "cell_type": "code",
   "execution_count": 72,
   "id": "98748218",
   "metadata": {},
   "outputs": [],
   "source": [
    "temp = temp.groupby(['TEAM']).sum().reset_index()"
   ]
  },
  {
   "cell_type": "code",
   "execution_count": 84,
   "id": "5d331f15",
   "metadata": {},
   "outputs": [
    {
     "data": {
      "application/vnd.jupyter.widget-view+json": {
       "model_id": "9dcf8634d60d451ea40f91d476281084",
       "version_major": 2,
       "version_minor": 0
      },
      "text/plain": [
       "interactive(children=(Dropdown(description='x', options=('W', 'L', 'G'), value='W'), Dropdown(description='y',…"
      ]
     },
     "metadata": {},
     "output_type": "display_data"
    }
   ],
   "source": [
    "@ipywidgets.interact(style = plt.style.available)\n",
    "def scatter_plot(x=['W','L','G'], y = ['TEAM']):    \n",
    "    fig, ax = plt.subplots(figsize=(75, 20))\n",
    "    plt.bar(temp[y],temp[x])"
   ]
  },
  {
   "cell_type": "code",
   "execution_count": 85,
   "id": "34b7df08",
   "metadata": {},
   "outputs": [
    {
     "data": {
      "image/png": "[encoded data removed]",
      "text/plain": [
       "<Figure size 1008x720 with 1 Axes>"
      ]
     },
     "metadata": {
      "needs_background": "light"
     },
     "output_type": "display_data"
    }
   ],
   "source": [
    "plt.figure(figsize=(14,10))\n",
    "sns.barplot(x=\"W\",y=\"TEAM\",data = nba_ranking)\n",
    "plt.xlabel(\"Wins\")\n",
    "plt.xticks(rotation = 270)\n",
    "plt.ylabel(\"HOME TEAM\")\n",
    "plt.show()"
   ]
  },
  {
   "cell_type": "code",
   "execution_count": 86,
   "id": "afe0e2cd",
   "metadata": {},
   "outputs": [
    {
     "data": {
      "image/png": "[encoded data removed]",
      "text/plain": [
       "<Figure size 432x288 with 1 Axes>"
      ]
     },
     "metadata": {
      "needs_background": "light"
     },
     "output_type": "display_data"
    },
    {
     "name": "stdout",
     "output_type": "stream",
     "text": [
      "mean: 103.10604350702417 std: 13.174469372391712\n"
     ]
    },
    {
     "data": {
      "image/png": "[encoded data removed]",
      "text/plain": [
       "<Figure size 432x288 with 1 Axes>"
      ]
     },
     "metadata": {
      "needs_background": "light"
     },
     "output_type": "display_data"
    },
    {
     "name": "stdout",
     "output_type": "stream",
     "text": [
      "mean: 100.29411993617931 std: 13.342756423883841\n"
     ]
    }
   ],
   "source": [
    "plt.hist(nba_games[\"PTS_home\"], bins = 200)\n",
    "plt.xlabel(\"Points scored by HOME TEAM\")\n",
    "plt.ylabel(\"Number of games \")\n",
    "plt.show()\n",
    "std_pth = np.std(nba_games[\"PTS_home\"])\n",
    "mean_pth = np.mean(nba_games[\"PTS_home\"])\n",
    "\n",
    "print (\"mean:\",mean_pth,\"std:\",std_pth)\n",
    "\n",
    "\n",
    "plt.hist(nba_games[\"PTS_away\"], bins = 200)\n",
    "plt.xlabel(\"Points scored by AWAY TEAM\")\n",
    "plt.ylabel(\"Number of games \")\n",
    "plt.show()\n",
    "std_pta = np.std(nba_games[\"PTS_away\"])\n",
    "mean_pta = np.mean(nba_games[\"PTS_away\"])\n",
    "\n",
    "print (\"mean:\",mean_pta,\"std:\",std_pta)"
   ]
  },
  {
   "cell_type": "markdown",
   "id": "5c774339",
   "metadata": {},
   "source": [
    "## Q. At least 3 paragraphs of connective information to help a novice understand what is happening in your datasets."
   ]
  },
  {
   "cell_type": "markdown",
   "id": "630c8f9a",
   "metadata": {},
   "source": [
    "This dataset was compiled in order to work on NBA game data. I found this dataset on Kaggle which was taken from the NBA stats website. It can be easily found on Kaggle as it is a open source data set available for all. https://www.kaggle.com/datasets/nathanlauga/nba-games?resource=download&select=games.csv. \n",
    "There is no such license for the dataset as it is open source and freely available for all. So we can perform all kinds of function on the dataset as we see fit for our use. There are 25796 rows and 21 columns in the dataset. The games dataset that has been used in this EDA is 3.99MB\n",
    "There are five datasets available:\n",
    "\n",
    "1. games.csv: all games from the 2004 season to the most recent update, including the date, teams, and some details such as the number of points scored, etc.\n",
    "2. games_details.csv: game dataset details, including all player statistics for a given game.\n",
    "3. payer.csv: player information (name)\n",
    "4. ranking.csv: a day's worth of NBA rankings (split into west and east on CONFERENCE column teams).\n",
    "5. teams.csv: all NBA teams"
   ]
  },
  {
   "cell_type": "markdown",
   "id": "2eb4be36",
   "metadata": {},
   "source": [
    "This dataset was compiled in order to work on NBA game data. This dataset was created using the NBA Stats website.\n",
    "There are five datasets available:\n",
    "games.csv: all games from the 2004 season to the most recent update, including the date, teams, and some details such as the number of points scored, etc.\n",
    "games details.csv: game dataset details, including all player statistics for a given game.\n",
    "csv: player information (name)\n",
    "ranking.csv: a day's worth of NBA rankings (split into west and east on CONFERENCE column teams).\n",
    "csv: all NBA teams"
   ]
  },
  {
   "cell_type": "markdown",
   "id": "7afe2828",
   "metadata": {},
   "source": [
    "Information for the visulization\n",
    "1. The interactive plot showsus relationship between wins, losses and total for games various teams(For latest Season ID 22021)\n",
    "2. The second interactive scatter plot shows us the relationship between Home team, Away team and the points scored by them in various types such as Points scores by the home team and away team, assist done by the home team and the away team and rebound made the home team and the away team.\n",
    "\n",
    "1. The first contextual visualization is points scored by various home teams\n",
    "2. The second Visualization is a univariate analysis showing the mean and standard deviation of number of points score by Home team and the Away team in the total number of games played by them.\n",
    "3. The third contextual visualization represents the average wins of the top ten teams."
   ]
  },
  {
   "cell_type": "markdown",
   "id": "8e46ad3a",
   "metadata": {},
   "source": [
    "## Citations of all the data sources used and information for the reader to be able to find those datasets themselves.\n"
   ]
  },
  {
   "cell_type": "markdown",
   "id": "6b13fbc7",
   "metadata": {},
   "source": [
    "1. https://www.kaggle.com/datasets/nathanlauga/nba-games?resource=download&select=games.csv\n",
    "2. https://www.kaggle.com/datasets/nathanlauga/nba-games/discussion?resource=download&select=games.csv"
   ]
  },
  {
   "cell_type": "markdown",
   "id": "ae9c0fb2",
   "metadata": {},
   "source": [
    "# Group submission guidelines:\n"
   ]
  },
  {
   "cell_type": "markdown",
   "id": "10c20133",
   "metadata": {},
   "source": [
    "## An additional interactive plot with your dataset\n"
   ]
  },
  {
   "cell_type": "code",
   "execution_count": 76,
   "id": "13581330",
   "metadata": {},
   "outputs": [
    {
     "data": {
      "text/html": [
       "<div>\n",
       "<style scoped>\n",
       "    .dataframe tbody tr th:only-of-type {\n",
       "        vertical-align: middle;\n",
       "    }\n",
       "\n",
       "    .dataframe tbody tr th {\n",
       "        vertical-align: top;\n",
       "    }\n",
       "\n",
       "    .dataframe thead th {\n",
       "        text-align: right;\n",
       "    }\n",
       "</style>\n",
       "<table border=\"1\" class=\"dataframe\">\n",
       "  <thead>\n",
       "    <tr style=\"text-align: right;\">\n",
       "      <th></th>\n",
       "      <th>GAME_DATE_EST</th>\n",
       "      <th>GAME_ID</th>\n",
       "      <th>GAME_STATUS_TEXT</th>\n",
       "      <th>HOME_TEAM_ID</th>\n",
       "      <th>VISITOR_TEAM_ID</th>\n",
       "      <th>SEASON</th>\n",
       "      <th>TEAM_ID_home</th>\n",
       "      <th>PTS_home</th>\n",
       "      <th>FG_PCT_home</th>\n",
       "      <th>FT_PCT_home</th>\n",
       "      <th>...</th>\n",
       "      <th>AST_home</th>\n",
       "      <th>REB_home</th>\n",
       "      <th>TEAM_ID_away</th>\n",
       "      <th>PTS_away</th>\n",
       "      <th>FG_PCT_away</th>\n",
       "      <th>FT_PCT_away</th>\n",
       "      <th>FG3_PCT_away</th>\n",
       "      <th>AST_away</th>\n",
       "      <th>REB_away</th>\n",
       "      <th>HOME_TEAM_WINS</th>\n",
       "    </tr>\n",
       "  </thead>\n",
       "  <tbody>\n",
       "    <tr>\n",
       "      <th>0</th>\n",
       "      <td>2022-03-12</td>\n",
       "      <td>22101005</td>\n",
       "      <td>Final</td>\n",
       "      <td>1610612748</td>\n",
       "      <td>1610612750</td>\n",
       "      <td>2021</td>\n",
       "      <td>1610612748</td>\n",
       "      <td>104.0</td>\n",
       "      <td>0.398</td>\n",
       "      <td>0.760</td>\n",
       "      <td>...</td>\n",
       "      <td>23.0</td>\n",
       "      <td>53.0</td>\n",
       "      <td>1610612750</td>\n",
       "      <td>113.0</td>\n",
       "      <td>0.422</td>\n",
       "      <td>0.875</td>\n",
       "      <td>0.357</td>\n",
       "      <td>21.0</td>\n",
       "      <td>46.0</td>\n",
       "      <td>0</td>\n",
       "    </tr>\n",
       "    <tr>\n",
       "      <th>1</th>\n",
       "      <td>2022-03-12</td>\n",
       "      <td>22101006</td>\n",
       "      <td>Final</td>\n",
       "      <td>1610612741</td>\n",
       "      <td>1610612739</td>\n",
       "      <td>2021</td>\n",
       "      <td>1610612741</td>\n",
       "      <td>101.0</td>\n",
       "      <td>0.443</td>\n",
       "      <td>0.933</td>\n",
       "      <td>...</td>\n",
       "      <td>20.0</td>\n",
       "      <td>46.0</td>\n",
       "      <td>1610612739</td>\n",
       "      <td>91.0</td>\n",
       "      <td>0.419</td>\n",
       "      <td>0.824</td>\n",
       "      <td>0.208</td>\n",
       "      <td>19.0</td>\n",
       "      <td>40.0</td>\n",
       "      <td>1</td>\n",
       "    </tr>\n",
       "    <tr>\n",
       "      <th>2</th>\n",
       "      <td>2022-03-12</td>\n",
       "      <td>22101007</td>\n",
       "      <td>Final</td>\n",
       "      <td>1610612759</td>\n",
       "      <td>1610612754</td>\n",
       "      <td>2021</td>\n",
       "      <td>1610612759</td>\n",
       "      <td>108.0</td>\n",
       "      <td>0.412</td>\n",
       "      <td>0.813</td>\n",
       "      <td>...</td>\n",
       "      <td>28.0</td>\n",
       "      <td>52.0</td>\n",
       "      <td>1610612754</td>\n",
       "      <td>119.0</td>\n",
       "      <td>0.489</td>\n",
       "      <td>1.000</td>\n",
       "      <td>0.389</td>\n",
       "      <td>23.0</td>\n",
       "      <td>47.0</td>\n",
       "      <td>0</td>\n",
       "    </tr>\n",
       "    <tr>\n",
       "      <th>3</th>\n",
       "      <td>2022-03-12</td>\n",
       "      <td>22101008</td>\n",
       "      <td>Final</td>\n",
       "      <td>1610612744</td>\n",
       "      <td>1610612749</td>\n",
       "      <td>2021</td>\n",
       "      <td>1610612744</td>\n",
       "      <td>122.0</td>\n",
       "      <td>0.484</td>\n",
       "      <td>0.933</td>\n",
       "      <td>...</td>\n",
       "      <td>33.0</td>\n",
       "      <td>55.0</td>\n",
       "      <td>1610612749</td>\n",
       "      <td>109.0</td>\n",
       "      <td>0.413</td>\n",
       "      <td>0.696</td>\n",
       "      <td>0.386</td>\n",
       "      <td>27.0</td>\n",
       "      <td>39.0</td>\n",
       "      <td>1</td>\n",
       "    </tr>\n",
       "    <tr>\n",
       "      <th>4</th>\n",
       "      <td>2022-03-12</td>\n",
       "      <td>22101009</td>\n",
       "      <td>Final</td>\n",
       "      <td>1610612743</td>\n",
       "      <td>1610612761</td>\n",
       "      <td>2021</td>\n",
       "      <td>1610612743</td>\n",
       "      <td>115.0</td>\n",
       "      <td>0.551</td>\n",
       "      <td>0.750</td>\n",
       "      <td>...</td>\n",
       "      <td>32.0</td>\n",
       "      <td>39.0</td>\n",
       "      <td>1610612761</td>\n",
       "      <td>127.0</td>\n",
       "      <td>0.471</td>\n",
       "      <td>0.760</td>\n",
       "      <td>0.387</td>\n",
       "      <td>28.0</td>\n",
       "      <td>50.0</td>\n",
       "      <td>0</td>\n",
       "    </tr>\n",
       "  </tbody>\n",
       "</table>\n",
       "<p>5 rows × 21 columns</p>\n",
       "</div>"
      ],
      "text/plain": [
       "  GAME_DATE_EST   GAME_ID GAME_STATUS_TEXT  HOME_TEAM_ID  VISITOR_TEAM_ID  \\\n",
       "0    2022-03-12  22101005            Final    1610612748       1610612750   \n",
       "1    2022-03-12  22101006            Final    1610612741       1610612739   \n",
       "2    2022-03-12  22101007            Final    1610612759       1610612754   \n",
       "3    2022-03-12  22101008            Final    1610612744       1610612749   \n",
       "4    2022-03-12  22101009            Final    1610612743       1610612761   \n",
       "\n",
       "   SEASON  TEAM_ID_home  PTS_home  FG_PCT_home  FT_PCT_home  ...  AST_home  \\\n",
       "0    2021    1610612748     104.0        0.398        0.760  ...      23.0   \n",
       "1    2021    1610612741     101.0        0.443        0.933  ...      20.0   \n",
       "2    2021    1610612759     108.0        0.412        0.813  ...      28.0   \n",
       "3    2021    1610612744     122.0        0.484        0.933  ...      33.0   \n",
       "4    2021    1610612743     115.0        0.551        0.750  ...      32.0   \n",
       "\n",
       "   REB_home  TEAM_ID_away  PTS_away  FG_PCT_away  FT_PCT_away  FG3_PCT_away  \\\n",
       "0      53.0    1610612750     113.0        0.422        0.875         0.357   \n",
       "1      46.0    1610612739      91.0        0.419        0.824         0.208   \n",
       "2      52.0    1610612754     119.0        0.489        1.000         0.389   \n",
       "3      55.0    1610612749     109.0        0.413        0.696         0.386   \n",
       "4      39.0    1610612761     127.0        0.471        0.760         0.387   \n",
       "\n",
       "   AST_away  REB_away  HOME_TEAM_WINS  \n",
       "0      21.0      46.0               0  \n",
       "1      19.0      40.0               1  \n",
       "2      23.0      47.0               0  \n",
       "3      27.0      39.0               1  \n",
       "4      28.0      50.0               0  \n",
       "\n",
       "[5 rows x 21 columns]"
      ]
     },
     "execution_count": 76,
     "metadata": {},
     "output_type": "execute_result"
    }
   ],
   "source": [
    "nba_games = pd.read_csv('games.csv')\n",
    "nba_games.head()"
   ]
  },
  {
   "cell_type": "code",
   "execution_count": 77,
   "id": "9ab30323",
   "metadata": {
    "scrolled": true
   },
   "outputs": [
    {
     "data": {
      "text/plain": [
       "Index(['GAME_DATE_EST', 'GAME_ID', 'GAME_STATUS_TEXT', 'HOME_TEAM_ID',\n",
       "       'VISITOR_TEAM_ID', 'SEASON', 'TEAM_ID_home', 'PTS_home', 'FG_PCT_home',\n",
       "       'FT_PCT_home', 'FG3_PCT_home', 'AST_home', 'REB_home', 'TEAM_ID_away',\n",
       "       'PTS_away', 'FG_PCT_away', 'FT_PCT_away', 'FG3_PCT_away', 'AST_away',\n",
       "       'REB_away', 'HOME_TEAM_WINS'],\n",
       "      dtype='object')"
      ]
     },
     "execution_count": 77,
     "metadata": {},
     "output_type": "execute_result"
    }
   ],
   "source": [
    "nba_games.columns"
   ]
  },
  {
   "cell_type": "code",
   "execution_count": 78,
   "id": "42b777df",
   "metadata": {},
   "outputs": [],
   "source": [
    "# List of column values for x and y axes are\n",
    "x_list = ['TEAM_ID_home','TEAM_ID_away']\n",
    "y_list = ['PTS_home','AST_home','REB_home','PTS_away','AST_away','REB_away']"
   ]
  },
  {
   "cell_type": "code",
   "execution_count": 87,
   "id": "edd5ec23",
   "metadata": {},
   "outputs": [
    {
     "data": {
      "application/vnd.jupyter.widget-view+json": {
       "model_id": "dc85260d69244d859511c9b4353a04c3",
       "version_major": 2,
       "version_minor": 0
      },
      "text/plain": [
       "interactive(children=(Dropdown(description='style', options=('Solarize_Light2', '_classic_test_patch', 'bmh', …"
      ]
     },
     "metadata": {},
     "output_type": "display_data"
    }
   ],
   "source": [
    "@ipywidgets.interact(style = plt.style.available, x = x_list, y = y_list, colormap = plt.colormaps())\n",
    "def scatter_plot(style, x, y, colormap):\n",
    "    with plt.style.context(style):\n",
    "        plt.figure(figsize=(14,10))\n",
    "        plt.scatter(nba_games[x], \n",
    "                    nba_games[y],\n",
    "                    cmap = colormap,\n",
    "                    s = 20)\n",
    "        plt.xlabel(x)\n",
    "        plt.ylabel(y)"
   ]
  },
  {
   "cell_type": "markdown",
   "id": "387220ee",
   "metadata": {},
   "source": [
    "## A third contextual visualization"
   ]
  },
  {
   "cell_type": "code",
   "execution_count": 88,
   "id": "0db138fb",
   "metadata": {},
   "outputs": [
    {
     "data": {
      "text/html": [
       "<div>\n",
       "<style scoped>\n",
       "    .dataframe tbody tr th:only-of-type {\n",
       "        vertical-align: middle;\n",
       "    }\n",
       "\n",
       "    .dataframe tbody tr th {\n",
       "        vertical-align: top;\n",
       "    }\n",
       "\n",
       "    .dataframe thead th {\n",
       "        text-align: right;\n",
       "    }\n",
       "</style>\n",
       "<table border=\"1\" class=\"dataframe\">\n",
       "  <thead>\n",
       "    <tr style=\"text-align: right;\">\n",
       "      <th></th>\n",
       "      <th>TEAM</th>\n",
       "      <th>W</th>\n",
       "    </tr>\n",
       "  </thead>\n",
       "  <tbody>\n",
       "    <tr>\n",
       "      <th>0</th>\n",
       "      <td>Phoenix</td>\n",
       "      <td>53</td>\n",
       "    </tr>\n",
       "    <tr>\n",
       "      <th>1</th>\n",
       "      <td>Golden State</td>\n",
       "      <td>46</td>\n",
       "    </tr>\n",
       "    <tr>\n",
       "      <th>2</th>\n",
       "      <td>Memphis</td>\n",
       "      <td>46</td>\n",
       "    </tr>\n",
       "    <tr>\n",
       "      <th>3</th>\n",
       "      <td>Utah</td>\n",
       "      <td>42</td>\n",
       "    </tr>\n",
       "    <tr>\n",
       "      <th>4</th>\n",
       "      <td>Dallas</td>\n",
       "      <td>41</td>\n",
       "    </tr>\n",
       "  </tbody>\n",
       "</table>\n",
       "</div>"
      ],
      "text/plain": [
       "           TEAM   W\n",
       "0       Phoenix  53\n",
       "1  Golden State  46\n",
       "2       Memphis  46\n",
       "3          Utah  42\n",
       "4        Dallas  41"
      ]
     },
     "execution_count": 88,
     "metadata": {},
     "output_type": "execute_result"
    }
   ],
   "source": [
    "teams_win = nba_ranking[['TEAM','W']]\n",
    "teams_win.head()"
   ]
  },
  {
   "cell_type": "code",
   "execution_count": 89,
   "id": "972c5207",
   "metadata": {},
   "outputs": [
    {
     "data": {
      "text/plain": [
       "Index(['San Antonio', 'LA Clippers', 'Dallas', 'Houston', 'Oklahoma City',\n",
       "       'Miami', 'Boston', 'Denver', 'Golden State', 'Utah', 'L.A. Lakers',\n",
       "       'Indiana', 'Portland', 'New Orleans/Oklahoma City', 'Toronto',\n",
       "       'Phoenix', 'Memphis', 'Cleveland', 'Chicago', 'L.A. Clippers',\n",
       "       'Milwaukee', 'Detroit', 'Atlanta', 'Orlando', 'New Orleans', 'Seattle',\n",
       "       'Philadelphia', 'Brooklyn', 'Washington', 'New Jersey', 'Sacramento',\n",
       "       'New York', 'Charlotte', 'Minnesota'],\n",
       "      dtype='object', name='TEAM')"
      ]
     },
     "execution_count": 89,
     "metadata": {},
     "output_type": "execute_result"
    }
   ],
   "source": [
    "nba_ranking1 = pd.DataFrame(teams_win)\n",
    "\n",
    "nba_ranking2 = nba_ranking1.groupby(['TEAM']).mean()\n",
    "nba_ranking2 = nba_ranking2.reset_index()\n",
    "nba_ranking2 = nba_ranking2.sort_values(by=['W'], ascending = False)\n",
    "nba_ranking2 = nba_ranking2.set_index('TEAM')\n",
    "nba_ranking2.index"
   ]
  },
  {
   "cell_type": "code",
   "execution_count": 90,
   "id": "e50a6be5",
   "metadata": {},
   "outputs": [],
   "source": [
    "top_five = nba_ranking2.head(10)"
   ]
  },
  {
   "cell_type": "code",
   "execution_count": 91,
   "id": "9a8a2050",
   "metadata": {},
   "outputs": [
    {
     "data": {
      "text/plain": [
       "<BarContainer object of 10 artists>"
      ]
     },
     "execution_count": 91,
     "metadata": {},
     "output_type": "execute_result"
    },
    {
     "data": {
      "image/png": "[encoded data removed]",
      "text/plain": [
       "<Figure size 1440x720 with 1 Axes>"
      ]
     },
     "metadata": {
      "needs_background": "light"
     },
     "output_type": "display_data"
    }
   ],
   "source": [
    "plt.figure(figsize=(20,10))\n",
    "# plt.plot(ufo3.index, ufo3['W'],kind=bar)\n",
    "plt.bar(top_five.index, top_five['W'], color ='orange',width = 0.4)"
   ]
  },
  {
   "cell_type": "markdown",
   "id": "df76d41e",
   "metadata": {},
   "source": [
    "## A paragraph describing what you learned on your own from this assignment and what you learned from your group members (different for each group member) "
   ]
  },
  {
   "cell_type": "markdown",
   "id": "5e4b2fdf",
   "metadata": {},
   "source": [
    "1. Through this assignment, I was able to enhance my skills in usage of various visualization libraries, applied them to plot interactive plots, perform data manipulation, Identifying, analyzing, and interpreting trends or patterns in large amounts of data, Using statistical tools to identify, analyze, and interpret patterns and trends in large data sets that could aid in diagnosis and prediction.\n",
    "2. Through my group members, I was able to enhance my programming skills. Through my team member I was able to understand ipywidgets, it's syntax and it's application. Also through my team member, I understood, seaborn library, it's syntax and it's application"
   ]
  },
  {
   "cell_type": "markdown",
   "id": "c17c2f12",
   "metadata": {},
   "source": [
    "## 1-2 paragraphs describing what things went according to your group work plan submitted in Part 2 and what things you'd like to do differently next time -- include in your text input\n"
   ]
  },
  {
   "cell_type": "markdown",
   "id": "51c9499b",
   "metadata": {},
   "source": [
    "The interactivity went according to our plan and we able to infer significant insights from data. Some of the steps which went according to our plan.\n",
    "1. We were able to plot visualization for top teams by their avaerage wins\n",
    "2. We were able interactively plot wins by various team during a specific season id\n",
    "3. We were also able to interactivly show how home team and away team scored their points, assists and rebound.\n",
    "\n",
    "We were not able to compare the visualizations from 2nd part and draw conclusions from data collected across multiple seasons. A failure that we encountered was that we were not able to merge 3 interactive dashboards together properly in the 2nd part. As it was throwing some kind of error which we were not able to decode due time limit. Also, instead of compiling our work on starboard we plan to upload the mybinder link."
   ]
  }
 ],
 "metadata": {
  "kernelspec": {
   "display_name": "Python 3",
   "language": "python",
   "name": "python3"
  },
  "language_info": {
   "codemirror_mode": {
    "name": "ipython",
    "version": 3
   },
   "file_extension": ".py",
   "mimetype": "text/x-python",
   "name": "python",
   "nbconvert_exporter": "python",
   "pygments_lexer": "ipython3",
   "version": "3.8.8"
  }
 },
 "nbformat": 4,
 "nbformat_minor": 5
}
